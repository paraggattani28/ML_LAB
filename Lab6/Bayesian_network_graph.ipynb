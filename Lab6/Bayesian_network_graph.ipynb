{
  "nbformat": 4,
  "nbformat_minor": 0,
  "metadata": {
    "colab": {
      "name": "Untitled2.ipynb",
      "provenance": []
    },
    "kernelspec": {
      "name": "python3",
      "display_name": "Python 3"
    },
    "language_info": {
      "name": "python"
    }
  },
  "cells": [
    {
      "cell_type": "code",
      "metadata": {
        "colab": {
          "base_uri": "https://localhost:8080/"
        },
        "id": "64GqXMxI91jb",
        "outputId": "cdd79ac2-c38d-420b-81b9-f9b0d88faae3"
      },
      "source": [
        "!pip install pgmpy"
      ],
      "execution_count": 1,
      "outputs": [
        {
          "output_type": "stream",
          "text": [
            "Collecting pgmpy\n",
            "\u001b[?25l  Downloading https://files.pythonhosted.org/packages/a3/0e/d9fadbfaa35e010c04d43acd3ae9fbefec98897dd7d61a6b7eb5a8b34072/pgmpy-0.1.14-py3-none-any.whl (331kB)\n",
            "\r\u001b[K     |█                               | 10kB 14.7MB/s eta 0:00:01\r\u001b[K     |██                              | 20kB 21.3MB/s eta 0:00:01\r\u001b[K     |███                             | 30kB 13.4MB/s eta 0:00:01\r\u001b[K     |████                            | 40kB 9.7MB/s eta 0:00:01\r\u001b[K     |█████                           | 51kB 10.3MB/s eta 0:00:01\r\u001b[K     |██████                          | 61kB 9.6MB/s eta 0:00:01\r\u001b[K     |███████                         | 71kB 10.0MB/s eta 0:00:01\r\u001b[K     |████████                        | 81kB 9.7MB/s eta 0:00:01\r\u001b[K     |█████████                       | 92kB 8.9MB/s eta 0:00:01\r\u001b[K     |█████████▉                      | 102kB 9.2MB/s eta 0:00:01\r\u001b[K     |██████████▉                     | 112kB 9.2MB/s eta 0:00:01\r\u001b[K     |███████████▉                    | 122kB 9.2MB/s eta 0:00:01\r\u001b[K     |████████████▉                   | 133kB 9.2MB/s eta 0:00:01\r\u001b[K     |█████████████▉                  | 143kB 9.2MB/s eta 0:00:01\r\u001b[K     |██████████████▉                 | 153kB 9.2MB/s eta 0:00:01\r\u001b[K     |███████████████▉                | 163kB 9.2MB/s eta 0:00:01\r\u001b[K     |████████████████▉               | 174kB 9.2MB/s eta 0:00:01\r\u001b[K     |█████████████████▉              | 184kB 9.2MB/s eta 0:00:01\r\u001b[K     |██████████████████▉             | 194kB 9.2MB/s eta 0:00:01\r\u001b[K     |███████████████████▊            | 204kB 9.2MB/s eta 0:00:01\r\u001b[K     |████████████████████▊           | 215kB 9.2MB/s eta 0:00:01\r\u001b[K     |█████████████████████▊          | 225kB 9.2MB/s eta 0:00:01\r\u001b[K     |██████████████████████▊         | 235kB 9.2MB/s eta 0:00:01\r\u001b[K     |███████████████████████▊        | 245kB 9.2MB/s eta 0:00:01\r\u001b[K     |████████████████████████▊       | 256kB 9.2MB/s eta 0:00:01\r\u001b[K     |█████████████████████████▊      | 266kB 9.2MB/s eta 0:00:01\r\u001b[K     |██████████████████████████▊     | 276kB 9.2MB/s eta 0:00:01\r\u001b[K     |███████████████████████████▊    | 286kB 9.2MB/s eta 0:00:01\r\u001b[K     |████████████████████████████▊   | 296kB 9.2MB/s eta 0:00:01\r\u001b[K     |█████████████████████████████▋  | 307kB 9.2MB/s eta 0:00:01\r\u001b[K     |██████████████████████████████▋ | 317kB 9.2MB/s eta 0:00:01\r\u001b[K     |███████████████████████████████▋| 327kB 9.2MB/s eta 0:00:01\r\u001b[K     |████████████████████████████████| 337kB 9.2MB/s \n",
            "\u001b[?25hRequirement already satisfied: pandas in /usr/local/lib/python3.7/dist-packages (from pgmpy) (1.1.5)\n",
            "Requirement already satisfied: joblib in /usr/local/lib/python3.7/dist-packages (from pgmpy) (1.0.1)\n",
            "Requirement already satisfied: scikit-learn in /usr/local/lib/python3.7/dist-packages (from pgmpy) (0.22.2.post1)\n",
            "Requirement already satisfied: tqdm in /usr/local/lib/python3.7/dist-packages (from pgmpy) (4.41.1)\n",
            "Requirement already satisfied: networkx in /usr/local/lib/python3.7/dist-packages (from pgmpy) (2.5.1)\n",
            "Requirement already satisfied: numpy in /usr/local/lib/python3.7/dist-packages (from pgmpy) (1.19.5)\n",
            "Requirement already satisfied: torch in /usr/local/lib/python3.7/dist-packages (from pgmpy) (1.8.1+cu101)\n",
            "Requirement already satisfied: statsmodels in /usr/local/lib/python3.7/dist-packages (from pgmpy) (0.10.2)\n",
            "Requirement already satisfied: pyparsing in /usr/local/lib/python3.7/dist-packages (from pgmpy) (2.4.7)\n",
            "Requirement already satisfied: scipy in /usr/local/lib/python3.7/dist-packages (from pgmpy) (1.4.1)\n",
            "Requirement already satisfied: python-dateutil>=2.7.3 in /usr/local/lib/python3.7/dist-packages (from pandas->pgmpy) (2.8.1)\n",
            "Requirement already satisfied: pytz>=2017.2 in /usr/local/lib/python3.7/dist-packages (from pandas->pgmpy) (2018.9)\n",
            "Requirement already satisfied: decorator<5,>=4.3 in /usr/local/lib/python3.7/dist-packages (from networkx->pgmpy) (4.4.2)\n",
            "Requirement already satisfied: typing-extensions in /usr/local/lib/python3.7/dist-packages (from torch->pgmpy) (3.7.4.3)\n",
            "Requirement already satisfied: patsy>=0.4.0 in /usr/local/lib/python3.7/dist-packages (from statsmodels->pgmpy) (0.5.1)\n",
            "Requirement already satisfied: six>=1.5 in /usr/local/lib/python3.7/dist-packages (from python-dateutil>=2.7.3->pandas->pgmpy) (1.15.0)\n",
            "Installing collected packages: pgmpy\n",
            "Successfully installed pgmpy-0.1.14\n"
          ],
          "name": "stdout"
        }
      ]
    },
    {
      "cell_type": "code",
      "metadata": {
        "id": "nDfUOi92_Czz"
      },
      "source": [
        "# Starting with defining the network structure\n",
        "from pgmpy.models import BayesianModel\n",
        "from pgmpy.factors.discrete import TabularCPD\n",
        "from pgmpy.inference import VariableElimination"
      ],
      "execution_count": 6,
      "outputs": []
    },
    {
      "cell_type": "code",
      "metadata": {
        "colab": {
          "base_uri": "https://localhost:8080/"
        },
        "id": "971OHJKU_GrQ",
        "outputId": "45cc8918-df5c-4e7f-c621-b69079bf683f"
      },
      "source": [
        "#Define a Structure with nodes and edges\n",
        "cancer_model = BayesianModel([('Pollution', 'Cancer'), \n",
        "                              ('Smoker', 'Cancer'),\n",
        "                              ('Cancer', 'Xray'),\n",
        "                              ('Cancer', 'Dyspnoea')])\n",
        "print('Bayesian network nodes:')\n",
        "print('\\t', cancer_model.nodes())\n",
        "print('Bayesian network edges:')\n",
        "print('\\t', cancer_model.edges())"
      ],
      "execution_count": 7,
      "outputs": [
        {
          "output_type": "stream",
          "text": [
            "Bayesian network nodes:\n",
            "\t ['Pollution', 'Cancer', 'Smoker', 'Xray', 'Dyspnoea']\n",
            "Bayesian network edges:\n",
            "\t [('Pollution', 'Cancer'), ('Cancer', 'Xray'), ('Cancer', 'Dyspnoea'), ('Smoker', 'Cancer')]\n"
          ],
          "name": "stdout"
        }
      ]
    },
    {
      "cell_type": "code",
      "metadata": {
        "id": "qLMvvdLj_K71"
      },
      "source": [
        "#Creation of Conditional Probability Table\n",
        "cpd_poll = TabularCPD(variable='Pollution', variable_card=2,\n",
        "                      values=[[0.9], [0.1]])\n",
        "cpd_smoke = TabularCPD(variable='Smoker', variable_card=2,\n",
        "                       values=[[0.3], [0.7]])\n",
        "cpd_cancer = TabularCPD(variable='Cancer', variable_card=2,\n",
        "                        values=[[0.03, 0.05, 0.001, 0.02],\n",
        "                                [0.97, 0.95, 0.999, 0.98]],\n",
        "                        evidence=['Smoker', 'Pollution'],\n",
        "                        evidence_card=[2, 2])\n",
        "cpd_xray = TabularCPD(variable='Xray', variable_card=2,\n",
        "                      values=[[0.9, 0.2], [0.1, 0.8]],\n",
        "                      evidence=['Cancer'], evidence_card=[2])\n",
        "cpd_dysp = TabularCPD(variable='Dyspnoea', variable_card=2,\n",
        "                      values=[[0.65, 0.3], [0.35, 0.7]],\n",
        "                      evidence=['Cancer'], evidence_card=[2])"
      ],
      "execution_count": 8,
      "outputs": []
    },
    {
      "cell_type": "code",
      "metadata": {
        "colab": {
          "base_uri": "https://localhost:8080/"
        },
        "id": "IV09Hk0U_OvC",
        "outputId": "6aedfa50-0dac-4ecb-a166-3a47b48bc9d8"
      },
      "source": [
        "# Associating the parameters with the model structure.\n",
        "cancer_model.add_cpds(cpd_poll, cpd_smoke, cpd_cancer, cpd_xray, cpd_dysp)\n",
        "print('Model generated bt adding conditional probability distribution(cpds)')\n",
        "\n",
        "# Checking if the cpds are valid for the model.\n",
        "print('Checking for Correctness of model:', end='')\n",
        "print(cancer_model.check_model())"
      ],
      "execution_count": 9,
      "outputs": [
        {
          "output_type": "stream",
          "text": [
            "Model generated bt adding conditional probability distribution(cpds)\n",
            "Checking for Correctness of model:True\n"
          ],
          "name": "stdout"
        }
      ]
    },
    {
      "cell_type": "code",
      "metadata": {
        "colab": {
          "base_uri": "https://localhost:8080/"
        },
        "id": "rvOj4h8f_TpB",
        "outputId": "1e3cc1a1-90a0-4431-a976-e423858c32a0"
      },
      "source": [
        "'''print('All local dependencies are as follows')\n",
        "cancer_model.get_independencies()\n",
        "'''\n",
        "\n",
        "print('Displaying CPDs')\n",
        "print(cancer_model.get_cpds('Pollution'))\n",
        "print(cancer_model.get_cpds('Smoker'))\n",
        "print(cancer_model.get_cpds('Cancer'))\n",
        "print(cancer_model.get_cpds('Xray'))\n",
        "print(cancer_model.get_cpds('Dyspnoea'))"
      ],
      "execution_count": 10,
      "outputs": [
        {
          "output_type": "stream",
          "text": [
            "Displaying CPDs\n",
            "+--------------+-----+\n",
            "| Pollution(0) | 0.9 |\n",
            "+--------------+-----+\n",
            "| Pollution(1) | 0.1 |\n",
            "+--------------+-----+\n",
            "+-----------+-----+\n",
            "| Smoker(0) | 0.3 |\n",
            "+-----------+-----+\n",
            "| Smoker(1) | 0.7 |\n",
            "+-----------+-----+\n",
            "+-----------+--------------+--------------+--------------+--------------+\n",
            "| Smoker    | Smoker(0)    | Smoker(0)    | Smoker(1)    | Smoker(1)    |\n",
            "+-----------+--------------+--------------+--------------+--------------+\n",
            "| Pollution | Pollution(0) | Pollution(1) | Pollution(0) | Pollution(1) |\n",
            "+-----------+--------------+--------------+--------------+--------------+\n",
            "| Cancer(0) | 0.03         | 0.05         | 0.001        | 0.02         |\n",
            "+-----------+--------------+--------------+--------------+--------------+\n",
            "| Cancer(1) | 0.97         | 0.95         | 0.999        | 0.98         |\n",
            "+-----------+--------------+--------------+--------------+--------------+\n",
            "+---------+-----------+-----------+\n",
            "| Cancer  | Cancer(0) | Cancer(1) |\n",
            "+---------+-----------+-----------+\n",
            "| Xray(0) | 0.9       | 0.2       |\n",
            "+---------+-----------+-----------+\n",
            "| Xray(1) | 0.1       | 0.8       |\n",
            "+---------+-----------+-----------+\n",
            "+-------------+-----------+-----------+\n",
            "| Cancer      | Cancer(0) | Cancer(1) |\n",
            "+-------------+-----------+-----------+\n",
            "| Dyspnoea(0) | 0.65      | 0.3       |\n",
            "+-------------+-----------+-----------+\n",
            "| Dyspnoea(1) | 0.35      | 0.7       |\n",
            "+-------------+-----------+-----------+\n"
          ],
          "name": "stdout"
        }
      ]
    },
    {
      "cell_type": "code",
      "metadata": {
        "colab": {
          "base_uri": "https://localhost:8080/"
        },
        "id": "tMW7SKpF_YOm",
        "outputId": "6253b3ee-2115-4185-e58d-73834c21a87e"
      },
      "source": [
        "#Inferencing with Bayesian Network\n",
        "#Computing the probability of Cancer given smoke\n",
        "\n",
        "cancer_infer = VariableElimination(cancer_model)\n",
        "print('\\nInferencing with Bayesian Network')\n",
        "\n",
        "print('\\nProbability of Cancer given Smoker')\n",
        "q = cancer_infer.query(variables=['Cancer'], evidence={'Smoker': 1})\n",
        "print(q)\n",
        "\n",
        "print('\\nProbability of Cancer given Smoker, Pollution')\n",
        "q = cancer_infer.query(variables=['Cancer'], evidence={'Smoker': 1,'Pollution': 1})\n",
        "print(q)"
      ],
      "execution_count": 16,
      "outputs": [
        {
          "output_type": "stream",
          "text": [
            "Finding Elimination Order: : 100%|██████████| 3/3 [00:00<00:00, 758.69it/s]\n",
            "Eliminating: Dyspnoea: 100%|██████████| 3/3 [00:00<00:00, 461.17it/s]\n",
            "Finding Elimination Order: : 100%|██████████| 2/2 [00:00<00:00, 474.04it/s]\n",
            "Eliminating: Dyspnoea: 100%|██████████| 2/2 [00:00<00:00, 359.67it/s]"
          ],
          "name": "stderr"
        },
        {
          "output_type": "stream",
          "text": [
            "\n",
            "Inferencing with Bayesian Network\n",
            "\n",
            "Probability of Cancer given Smoker\n",
            "+-----------+---------------+\n",
            "| Cancer    |   phi(Cancer) |\n",
            "+===========+===============+\n",
            "| Cancer(0) |        0.0029 |\n",
            "+-----------+---------------+\n",
            "| Cancer(1) |        0.9971 |\n",
            "+-----------+---------------+\n",
            "\n",
            "Probability of Cancer given Smoker, Pollution\n",
            "+-----------+---------------+\n",
            "| Cancer    |   phi(Cancer) |\n",
            "+===========+===============+\n",
            "| Cancer(0) |        0.0200 |\n",
            "+-----------+---------------+\n",
            "| Cancer(1) |        0.9800 |\n",
            "+-----------+---------------+\n"
          ],
          "name": "stdout"
        },
        {
          "output_type": "stream",
          "text": [
            "\n"
          ],
          "name": "stderr"
        }
      ]
    }
  ]
}